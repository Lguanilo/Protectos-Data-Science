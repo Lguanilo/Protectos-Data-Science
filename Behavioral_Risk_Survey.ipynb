{
 "cells": [
  {
   "cell_type": "code",
   "execution_count": 1,
   "id": "7406c68c-06da-414d-95f5-1528af734a68",
   "metadata": {},
   "outputs": [],
   "source": [
    "import pandas as pd\n",
    "import numpy as np\n",
    "import matplotlib.pyplot as plt\n",
    "import seaborn as sns"
   ]
  },
  {
   "cell_type": "markdown",
   "id": "77661931-e196-47f5-b88e-9ca32517e31a",
   "metadata": {},
   "source": [
    "#### Carga y Limpieza de Datos"
   ]
  },
  {
   "cell_type": "code",
   "execution_count": 2,
   "id": "6e132627-1a73-41ac-9846-7c5cffe0ded6",
   "metadata": {},
   "outputs": [],
   "source": [
    "data_encuesta = pd.read_hdf(r'C:\\Users\\Acer\\Analitics Dev\\DataCamp\\Datasets\\Exploratory Data Analysis\\Behavioral Risk Factor Surveillance System.hdf5')"
   ]
  },
  {
   "cell_type": "code",
   "execution_count": 3,
   "id": "dea81bce-7344-44c1-9ba6-45eceacbdb51",
   "metadata": {},
   "outputs": [],
   "source": [
    "List_income = ['< 15k','< 15k','15k< >25k','15k< >25k','25k< >30k','30k< >50k','50k< >100k','50k< >100k',np.nan]\n",
    "INCOME2 = sorted(np.array(data_encuesta['INCOME2'].unique()))\n",
    "dt_Income= pd.DataFrame({\n",
    "    'Id_Income2' : INCOME2,\n",
    "    'Denom_Income' : List_income\n",
    "})"
   ]
  },
  {
   "cell_type": "code",
   "execution_count": 4,
   "id": "d72ad36d-bab0-4953-bff6-53a7bae06fae",
   "metadata": {},
   "outputs": [],
   "source": [
    "List_age = ['18<>24','25<>29','30<>34','35<>39','40<>44','45<>49','50<>54','55<>59','60<>64','65<>69','70<>74','75<>79','80<>89',np.nan]\n",
    "AGEG5YR = sorted(np.array(data_encuesta['_AGEG5YR'].unique()))\n",
    "dt_Age= pd.DataFrame({\n",
    "    'Id_Income2' : AGEG5YR,\n",
    "    'Denom_Income' : List_age\n",
    "})"
   ]
  },
  {
   "cell_type": "code",
   "execution_count": 5,
   "id": "d9612338-b367-4eeb-a1e1-060864b73e8a",
   "metadata": {},
   "outputs": [],
   "source": [
    "data_encuesta.rename({'HTM4':'Altura','WTKG3':'Peso','_VEGESU1':'Veg_Consumidos','INCOME2':'Cat_Ingresos','_AGEG5YR':'Cat_Edad','AGE':'Edad'},axis=1,inplace=True)"
   ]
  },
  {
   "cell_type": "code",
   "execution_count": 6,
   "id": "e9be5e74-9f1a-4962-8a85-f22a9dd6986c",
   "metadata": {},
   "outputs": [],
   "source": [
    "data_encuesta.dropna(subset=['SEX'],inplace=True)"
   ]
  },
  {
   "cell_type": "code",
   "execution_count": 7,
   "id": "cbe83b21-368a-411b-bb9e-81074280febc",
   "metadata": {},
   "outputs": [],
   "source": [
    "data_encuesta['Genero'] = np.where(data_encuesta['SEX']==1,\"Masculino\",np.where(data_encuesta['SEX']==2,\"Femenino\",np.nan))"
   ]
  },
  {
   "cell_type": "code",
   "execution_count": 8,
   "id": "3711805e-e0fd-422d-b042-003d0c3e0286",
   "metadata": {},
   "outputs": [],
   "source": [
    "data_encuesta.drop(['_HTMG10','SEX'],axis=1,inplace=True)"
   ]
  },
  {
   "cell_type": "code",
   "execution_count": 9,
   "id": "0391f3a7-765c-4a55-854b-8e798277979b",
   "metadata": {},
   "outputs": [
    {
     "data": {
      "text/html": [
       "<div>\n",
       "<style scoped>\n",
       "    .dataframe tbody tr th:only-of-type {\n",
       "        vertical-align: middle;\n",
       "    }\n",
       "\n",
       "    .dataframe tbody tr th {\n",
       "        vertical-align: top;\n",
       "    }\n",
       "\n",
       "    .dataframe thead th {\n",
       "        text-align: right;\n",
       "    }\n",
       "</style>\n",
       "<table border=\"1\" class=\"dataframe\">\n",
       "  <thead>\n",
       "    <tr style=\"text-align: right;\">\n",
       "      <th></th>\n",
       "      <th>Altura</th>\n",
       "      <th>Peso</th>\n",
       "      <th>Cat_Ingresos</th>\n",
       "      <th>_LLCPWT</th>\n",
       "      <th>Cat_Edad</th>\n",
       "      <th>Veg_Consumidos</th>\n",
       "      <th>Edad</th>\n",
       "      <th>Genero</th>\n",
       "    </tr>\n",
       "  </thead>\n",
       "  <tbody>\n",
       "    <tr>\n",
       "      <th>96230</th>\n",
       "      <td>160.0</td>\n",
       "      <td>60.33</td>\n",
       "      <td>8.0</td>\n",
       "      <td>1398.525290</td>\n",
       "      <td>6.0</td>\n",
       "      <td>2.14</td>\n",
       "      <td>47.0</td>\n",
       "      <td>Femenino</td>\n",
       "    </tr>\n",
       "    <tr>\n",
       "      <th>244920</th>\n",
       "      <td>163.0</td>\n",
       "      <td>58.97</td>\n",
       "      <td>5.0</td>\n",
       "      <td>84.057503</td>\n",
       "      <td>13.0</td>\n",
       "      <td>3.14</td>\n",
       "      <td>89.5</td>\n",
       "      <td>Femenino</td>\n",
       "    </tr>\n",
       "    <tr>\n",
       "      <th>57312</th>\n",
       "      <td>163.0</td>\n",
       "      <td>72.57</td>\n",
       "      <td>8.0</td>\n",
       "      <td>390.248599</td>\n",
       "      <td>5.0</td>\n",
       "      <td>2.64</td>\n",
       "      <td>42.0</td>\n",
       "      <td>Femenino</td>\n",
       "    </tr>\n",
       "    <tr>\n",
       "      <th>32573</th>\n",
       "      <td>165.0</td>\n",
       "      <td>74.84</td>\n",
       "      <td>1.0</td>\n",
       "      <td>11566.705300</td>\n",
       "      <td>3.0</td>\n",
       "      <td>1.46</td>\n",
       "      <td>32.0</td>\n",
       "      <td>Femenino</td>\n",
       "    </tr>\n",
       "    <tr>\n",
       "      <th>355929</th>\n",
       "      <td>170.0</td>\n",
       "      <td>108.86</td>\n",
       "      <td>3.0</td>\n",
       "      <td>844.485450</td>\n",
       "      <td>3.0</td>\n",
       "      <td>1.81</td>\n",
       "      <td>32.0</td>\n",
       "      <td>Femenino</td>\n",
       "    </tr>\n",
       "  </tbody>\n",
       "</table>\n",
       "</div>"
      ],
      "text/plain": [
       "        Altura    Peso  Cat_Ingresos       _LLCPWT  Cat_Edad  Veg_Consumidos  \\\n",
       "96230    160.0   60.33           8.0   1398.525290       6.0            2.14   \n",
       "244920   163.0   58.97           5.0     84.057503      13.0            3.14   \n",
       "57312    163.0   72.57           8.0    390.248599       5.0            2.64   \n",
       "32573    165.0   74.84           1.0  11566.705300       3.0            1.46   \n",
       "355929   170.0  108.86           3.0    844.485450       3.0            1.81   \n",
       "\n",
       "        Edad    Genero  \n",
       "96230   47.0  Femenino  \n",
       "244920  89.5  Femenino  \n",
       "57312   42.0  Femenino  \n",
       "32573   32.0  Femenino  \n",
       "355929  32.0  Femenino  "
      ]
     },
     "execution_count": 9,
     "metadata": {},
     "output_type": "execute_result"
    }
   ],
   "source": [
    "data_encuesta.head()"
   ]
  },
  {
   "cell_type": "code",
   "execution_count": 10,
   "id": "7adcdfe6-4887-4ba7-a7ba-8affdebc0eb4",
   "metadata": {},
   "outputs": [
    {
     "data": {
      "text/plain": [
       "(99938, 8)"
      ]
     },
     "execution_count": 10,
     "metadata": {},
     "output_type": "execute_result"
    }
   ],
   "source": [
    "data_encuesta.shape"
   ]
  },
  {
   "cell_type": "code",
   "execution_count": 11,
   "id": "69810b5d-e374-4d63-b018-3a8d23dfca9c",
   "metadata": {},
   "outputs": [
    {
     "name": "stdout",
     "output_type": "stream",
     "text": [
      "<class 'pandas.core.frame.DataFrame'>\n",
      "Int64Index: 99938 entries, 96230 to 379327\n",
      "Data columns (total 8 columns):\n",
      " #   Column          Non-Null Count  Dtype  \n",
      "---  ------          --------------  -----  \n",
      " 0   Altura          95101 non-null  float64\n",
      " 1   Peso            93363 non-null  float64\n",
      " 2   Cat_Ingresos    83406 non-null  float64\n",
      " 3   _LLCPWT         99938 non-null  float64\n",
      " 4   Cat_Edad        98749 non-null  float64\n",
      " 5   Veg_Consumidos  87667 non-null  float64\n",
      " 6   Edad            98749 non-null  float64\n",
      " 7   Genero          99938 non-null  object \n",
      "dtypes: float64(7), object(1)\n",
      "memory usage: 6.9+ MB\n"
     ]
    }
   ],
   "source": [
    "data_encuesta.info()"
   ]
  },
  {
   "cell_type": "markdown",
   "id": "1050b652-02e2-4f7f-a35b-e6c642da84bd",
   "metadata": {},
   "source": [
    "#### EDA: Exploratoring Data Analysis"
   ]
  },
  {
   "cell_type": "code",
   "execution_count": 12,
   "id": "870cc834-269c-42dc-a45c-3ccda0312d7b",
   "metadata": {},
   "outputs": [
    {
     "data": {
      "text/plain": [
       "Femenino     51349\n",
       "Masculino    48589\n",
       "Name: Genero, dtype: int64"
      ]
     },
     "execution_count": 12,
     "metadata": {},
     "output_type": "execute_result"
    }
   ],
   "source": [
    "data_encuesta['Genero'].value_counts()"
   ]
  },
  {
   "cell_type": "markdown",
   "id": "05908976-1a35-4942-9c22-2c0a4b616f9c",
   "metadata": {},
   "source": [
    "##### Descripción de Altura"
   ]
  },
  {
   "cell_type": "code",
   "execution_count": 13,
   "id": "7a116502-93b4-4f5a-bdbf-c12f27e6d1ce",
   "metadata": {},
   "outputs": [
    {
     "data": {
      "text/html": [
       "<div>\n",
       "<style scoped>\n",
       "    .dataframe tbody tr th:only-of-type {\n",
       "        vertical-align: middle;\n",
       "    }\n",
       "\n",
       "    .dataframe tbody tr th {\n",
       "        vertical-align: top;\n",
       "    }\n",
       "\n",
       "    .dataframe thead th {\n",
       "        text-align: right;\n",
       "    }\n",
       "</style>\n",
       "<table border=\"1\" class=\"dataframe\">\n",
       "  <thead>\n",
       "    <tr style=\"text-align: right;\">\n",
       "      <th></th>\n",
       "      <th>count</th>\n",
       "      <th>mean</th>\n",
       "      <th>std</th>\n",
       "      <th>min</th>\n",
       "      <th>25%</th>\n",
       "      <th>50%</th>\n",
       "      <th>75%</th>\n",
       "      <th>max</th>\n",
       "    </tr>\n",
       "    <tr>\n",
       "      <th>Genero</th>\n",
       "      <th></th>\n",
       "      <th></th>\n",
       "      <th></th>\n",
       "      <th></th>\n",
       "      <th></th>\n",
       "      <th></th>\n",
       "      <th></th>\n",
       "      <th></th>\n",
       "    </tr>\n",
       "  </thead>\n",
       "  <tbody>\n",
       "    <tr>\n",
       "      <th>Femenino</th>\n",
       "      <td>50696.0</td>\n",
       "      <td>48.649243</td>\n",
       "      <td>19.222262</td>\n",
       "      <td>21.0</td>\n",
       "      <td>32.0</td>\n",
       "      <td>47.0</td>\n",
       "      <td>62.0</td>\n",
       "      <td>89.5</td>\n",
       "    </tr>\n",
       "    <tr>\n",
       "      <th>Masculino</th>\n",
       "      <td>48053.0</td>\n",
       "      <td>46.736759</td>\n",
       "      <td>18.446782</td>\n",
       "      <td>21.0</td>\n",
       "      <td>32.0</td>\n",
       "      <td>47.0</td>\n",
       "      <td>62.0</td>\n",
       "      <td>89.5</td>\n",
       "    </tr>\n",
       "  </tbody>\n",
       "</table>\n",
       "</div>"
      ],
      "text/plain": [
       "             count       mean        std   min   25%   50%   75%   max\n",
       "Genero                                                                \n",
       "Femenino   50696.0  48.649243  19.222262  21.0  32.0  47.0  62.0  89.5\n",
       "Masculino  48053.0  46.736759  18.446782  21.0  32.0  47.0  62.0  89.5"
      ]
     },
     "execution_count": 13,
     "metadata": {},
     "output_type": "execute_result"
    }
   ],
   "source": [
    "data_encuesta.groupby('Genero')['Edad'].describe()"
   ]
  },
  {
   "cell_type": "code",
   "execution_count": 14,
   "id": "f3b980c1-5db2-4343-8503-98f16303f9c4",
   "metadata": {},
   "outputs": [
    {
     "data": {
      "text/html": [
       "<div>\n",
       "<style scoped>\n",
       "    .dataframe tbody tr th:only-of-type {\n",
       "        vertical-align: middle;\n",
       "    }\n",
       "\n",
       "    .dataframe tbody tr th {\n",
       "        vertical-align: top;\n",
       "    }\n",
       "\n",
       "    .dataframe thead th {\n",
       "        text-align: right;\n",
       "    }\n",
       "</style>\n",
       "<table border=\"1\" class=\"dataframe\">\n",
       "  <thead>\n",
       "    <tr style=\"text-align: right;\">\n",
       "      <th></th>\n",
       "      <th>count</th>\n",
       "      <th>mean</th>\n",
       "      <th>std</th>\n",
       "      <th>min</th>\n",
       "      <th>25%</th>\n",
       "      <th>50%</th>\n",
       "      <th>75%</th>\n",
       "      <th>max</th>\n",
       "    </tr>\n",
       "    <tr>\n",
       "      <th>Genero</th>\n",
       "      <th></th>\n",
       "      <th></th>\n",
       "      <th></th>\n",
       "      <th></th>\n",
       "      <th></th>\n",
       "      <th></th>\n",
       "      <th></th>\n",
       "      <th></th>\n",
       "    </tr>\n",
       "  </thead>\n",
       "  <tbody>\n",
       "    <tr>\n",
       "      <th>Femenino</th>\n",
       "      <td>48620.0</td>\n",
       "      <td>162.968531</td>\n",
       "      <td>7.582218</td>\n",
       "      <td>91.0</td>\n",
       "      <td>157.0</td>\n",
       "      <td>163.0</td>\n",
       "      <td>168.0</td>\n",
       "      <td>224.0</td>\n",
       "    </tr>\n",
       "    <tr>\n",
       "      <th>Masculino</th>\n",
       "      <td>46481.0</td>\n",
       "      <td>177.538048</td>\n",
       "      <td>8.350154</td>\n",
       "      <td>103.0</td>\n",
       "      <td>173.0</td>\n",
       "      <td>178.0</td>\n",
       "      <td>183.0</td>\n",
       "      <td>226.0</td>\n",
       "    </tr>\n",
       "  </tbody>\n",
       "</table>\n",
       "</div>"
      ],
      "text/plain": [
       "             count        mean       std    min    25%    50%    75%    max\n",
       "Genero                                                                     \n",
       "Femenino   48620.0  162.968531  7.582218   91.0  157.0  163.0  168.0  224.0\n",
       "Masculino  46481.0  177.538048  8.350154  103.0  173.0  178.0  183.0  226.0"
      ]
     },
     "execution_count": 14,
     "metadata": {},
     "output_type": "execute_result"
    }
   ],
   "source": [
    "data_encuesta.groupby('Genero')['Altura'].describe()"
   ]
  },
  {
   "cell_type": "code",
   "execution_count": 15,
   "id": "e0c16c47-0c06-44fe-b6e2-ed268e17a2e4",
   "metadata": {},
   "outputs": [
    {
     "data": {
      "image/png": "[encoded data removed]",
      "text/plain": [
       "<Figure size 1080x360 with 2 Axes>"
      ]
     },
     "metadata": {
      "needs_background": "light"
     },
     "output_type": "display_data"
    }
   ],
   "source": [
    "fig , ax = plt.subplots(1,2,figsize=(15,5))\n",
    "sns.histplot(data=data_encuesta,x='Altura',hue='Genero',bins=30,ax=ax[0])\n",
    "sns.boxplot(data=data_encuesta,x='Altura',y='Genero',ax=ax[1])\n",
    "fig.suptitle('Comportamiento de alturas por Generos', fontsize=16)\n",
    "ax[0].set_title('Histograma')\n",
    "ax[1].set_title('Diagrama de cajas')\n",
    "plt.show()"
   ]
  },
  {
   "cell_type": "code",
   "execution_count": 16,
   "id": "621689fd-b053-4df1-bca6-e31290a47801",
   "metadata": {},
   "outputs": [],
   "source": [
    "#Agrupacion para el promedio de altura\n",
    "altura_edades = data_encuesta.groupby(['Genero','Edad'])['Altura'].mean()\n",
    "altura_edades = altura_edades.reset_index()"
   ]
  },
  {
   "cell_type": "code",
   "execution_count": 17,
   "id": "ee0d6f1b-f543-489d-ad39-badce9e279ee",
   "metadata": {},
   "outputs": [
    {
     "data": {
      "image/png": "[encoded data removed]",
      "text/plain": [
       "<Figure size 432x288 with 1 Axes>"
      ]
     },
     "metadata": {
      "needs_background": "light"
     },
     "output_type": "display_data"
    }
   ],
   "source": [
    "sns.lineplot(data=altura_edades,x='Edad',y='Altura',hue='Genero')\n",
    "plt.show()"
   ]
  },
  {
   "cell_type": "code",
   "execution_count": 18,
   "id": "991e9d97-81c6-4da2-8ba3-e045ececc8b4",
   "metadata": {},
   "outputs": [
    {
     "data": {
      "text/html": [
       "<div>\n",
       "<style scoped>\n",
       "    .dataframe tbody tr th:only-of-type {\n",
       "        vertical-align: middle;\n",
       "    }\n",
       "\n",
       "    .dataframe tbody tr th {\n",
       "        vertical-align: top;\n",
       "    }\n",
       "\n",
       "    .dataframe thead th {\n",
       "        text-align: right;\n",
       "    }\n",
       "</style>\n",
       "<table border=\"1\" class=\"dataframe\">\n",
       "  <thead>\n",
       "    <tr style=\"text-align: right;\">\n",
       "      <th></th>\n",
       "      <th>Genero</th>\n",
       "      <th>Edad</th>\n",
       "      <th>Altura</th>\n",
       "    </tr>\n",
       "  </thead>\n",
       "  <tbody>\n",
       "    <tr>\n",
       "      <th>0</th>\n",
       "      <td>Femenino</td>\n",
       "      <td>21.0</td>\n",
       "      <td>163.101967</td>\n",
       "    </tr>\n",
       "    <tr>\n",
       "      <th>1</th>\n",
       "      <td>Femenino</td>\n",
       "      <td>27.0</td>\n",
       "      <td>163.529750</td>\n",
       "    </tr>\n",
       "    <tr>\n",
       "      <th>2</th>\n",
       "      <td>Femenino</td>\n",
       "      <td>32.0</td>\n",
       "      <td>163.457875</td>\n",
       "    </tr>\n",
       "    <tr>\n",
       "      <th>3</th>\n",
       "      <td>Femenino</td>\n",
       "      <td>37.0</td>\n",
       "      <td>164.067407</td>\n",
       "    </tr>\n",
       "    <tr>\n",
       "      <th>4</th>\n",
       "      <td>Femenino</td>\n",
       "      <td>42.0</td>\n",
       "      <td>163.666579</td>\n",
       "    </tr>\n",
       "  </tbody>\n",
       "</table>\n",
       "</div>"
      ],
      "text/plain": [
       "     Genero  Edad      Altura\n",
       "0  Femenino  21.0  163.101967\n",
       "1  Femenino  27.0  163.529750\n",
       "2  Femenino  32.0  163.457875\n",
       "3  Femenino  37.0  164.067407\n",
       "4  Femenino  42.0  163.666579"
      ]
     },
     "execution_count": 18,
     "metadata": {},
     "output_type": "execute_result"
    }
   ],
   "source": [
    "altura_edades.head()"
   ]
  },
  {
   "cell_type": "code",
   "execution_count": 19,
   "id": "f39623f0-ccdc-4fb1-9514-f7665d4503f9",
   "metadata": {},
   "outputs": [],
   "source": [
    "from sklearn.linear_model import LinearRegression"
   ]
  },
  {
   "cell_type": "code",
   "execution_count": 20,
   "id": "d136b95b-fb88-4a21-aac6-7307e23fab23",
   "metadata": {},
   "outputs": [],
   "source": [
    "altura_edades_femenino = altura_edades.query('Genero==\"Femenino\"')\n",
    "altura_edades_masculino = altura_edades.query('Genero==\"Masculino\"')"
   ]
  },
  {
   "cell_type": "code",
   "execution_count": 21,
   "id": "b65e391e-9afc-413d-a65f-2ab5e13ab359",
   "metadata": {},
   "outputs": [
    {
     "name": "stdout",
     "output_type": "stream",
     "text": [
      "[[-0.03217368]] [179.03615352]\n"
     ]
    }
   ],
   "source": [
    "#Regresion lineal - Masculinos\n",
    "altura_m = np.array(altura_edades_masculino['Altura']).reshape(-1, 1)\n",
    "edad_m = np.array(altura_edades_masculino['Edad']).reshape(-1, 1)\n",
    "lr_m = LinearRegression()\n",
    "lr_m = lr_m.fit(edad_m,altura_m)\n",
    "altura_m_pred = lr_m.predict(edad_m)\n",
    "print(lr_m.coef_,lr_m.intercept_)"
   ]
  },
  {
   "cell_type": "code",
   "execution_count": 22,
   "id": "ae0ef33c-006f-480b-b539-a5146d0278ca",
   "metadata": {},
   "outputs": [
    {
     "name": "stdout",
     "output_type": "stream",
     "text": [
      "[[-0.04981498]] [165.41108126]\n"
     ]
    }
   ],
   "source": [
    "#Regresion lineal - Femeninos\n",
    "altura_f = np.array(altura_edades_femenino['Altura']).reshape(-1, 1)\n",
    "edad_f = np.array(altura_edades_femenino['Edad']).reshape(-1, 1)\n",
    "lr_f = LinearRegression()\n",
    "lr_f = lr_m.fit(edad_f,altura_f)\n",
    "altura_f_pred = lr_m.predict(edad_m)\n",
    "print(lr_f.coef_,lr_f.intercept_)"
   ]
  },
  {
   "cell_type": "code",
   "execution_count": 23,
   "id": "4861f1ae-b2b0-4a0b-9782-3db65e4dbf73",
   "metadata": {},
   "outputs": [
    {
     "data": {
      "image/png": "[encoded data removed]",
      "text/plain": [
       "<Figure size 432x288 with 1 Axes>"
      ]
     },
     "metadata": {
      "needs_background": "light"
     },
     "output_type": "display_data"
    }
   ],
   "source": [
    "sns.regplot(x='Edad',y='Altura',data= altura_edades.query('Genero==\"Femenino\"'))\n",
    "sns.regplot(x='Edad',y='Altura',data= altura_edades.query('Genero==\"Masculino\"'))\n",
    "plt.show()"
   ]
  },
  {
   "cell_type": "code",
   "execution_count": 24,
   "id": "ed3b998e-ba10-4d4c-850c-4900eafbe4da",
   "metadata": {},
   "outputs": [],
   "source": [
    "#Funcion para el calculo de la pendiente\n",
    "def pendiente (x,y):\n",
    "    lr = LinearRegression()\n",
    "    lr = lr.fit(x,y)\n",
    "    pendiente = lr.coef_\n",
    "    return pendiente"
   ]
  },
  {
   "cell_type": "code",
   "execution_count": 25,
   "id": "85f4d323-ffed-4ff3-b57c-f5804f71f675",
   "metadata": {},
   "outputs": [
    {
     "data": {
      "text/plain": [
       "13"
      ]
     },
     "execution_count": 25,
     "metadata": {},
     "output_type": "execute_result"
    }
   ],
   "source": [
    "len(altura_f)"
   ]
  },
  {
   "cell_type": "code",
   "execution_count": 26,
   "id": "ed991468-4eef-4c13-bdf2-5304f3f307f6",
   "metadata": {},
   "outputs": [],
   "source": [
    "pendiente_altura_m = []\n",
    "for i in range(11):\n",
    "    x = edad_m[i:]\n",
    "    y = altura_m[i:]\n",
    "    p = pendiente(x,y)\n",
    "    pendiente_altura_m.append(p[0][0])"
   ]
  },
  {
   "cell_type": "code",
   "execution_count": 27,
   "id": "0ed72619-f968-417b-a610-5de079c214e2",
   "metadata": {},
   "outputs": [],
   "source": [
    "pendiente_altura_f = []\n",
    "for i in range(11):\n",
    "    x = edad_f[i:]\n",
    "    y = altura_f[i:]\n",
    "    p = pendiente(x,y)\n",
    "    pendiente_altura_f.append(p[0][0])"
   ]
  },
  {
   "cell_type": "code",
   "execution_count": 28,
   "id": "76219745-5806-4b33-906c-d4c7c8c6b682",
   "metadata": {},
   "outputs": [
    {
     "data": {
      "text/plain": [
       "[-0.04981497800353781,\n",
       " -0.0604857335370098,\n",
       " -0.06958257261467544,\n",
       " -0.0814603412331338,\n",
       " -0.08777373192408047,\n",
       " -0.09857254717101635,\n",
       " -0.1058646872127613,\n",
       " -0.10814264455954785,\n",
       " -0.11416895925467374,\n",
       " -0.11480951837415912,\n",
       " -0.11646447753978814]"
      ]
     },
     "execution_count": 28,
     "metadata": {},
     "output_type": "execute_result"
    }
   ],
   "source": [
    "pendiente_altura_f"
   ]
  },
  {
   "cell_type": "code",
   "execution_count": null,
   "id": "faa4cf47-f9af-4672-8ede-fdc619711b36",
   "metadata": {},
   "outputs": [],
   "source": []
  }
 ],
 "metadata": {
  "kernelspec": {
   "display_name": "Python 3",
   "language": "python",
   "name": "python3"
  },
  "language_info": {
   "codemirror_mode": {
    "name": "ipython",
    "version": 3
   },
   "file_extension": ".py",
   "mimetype": "text/x-python",
   "name": "python",
   "nbconvert_exporter": "python",
   "pygments_lexer": "ipython3",
   "version": "3.7.6"
  }
 },
 "nbformat": 4,
 "nbformat_minor": 5
}
